{
 "cells": [
  {
   "cell_type": "code",
   "execution_count": 86,
   "metadata": {},
   "outputs": [],
   "source": [
    "import numpy as np"
   ]
  },
  {
   "cell_type": "code",
   "execution_count": 87,
   "metadata": {},
   "outputs": [],
   "source": [
    "A = np.arange(0,1,0.1).reshape(-1,1) + np.arange(0,1,0.1)"
   ]
  },
  {
   "cell_type": "code",
   "execution_count": 88,
   "metadata": {},
   "outputs": [],
   "source": [
    "class AveragePooling:\n",
    "    def __init__(self, window_size=1, padding=0, stride=1):\n",
    "        self.window_size = window_size\n",
    "        self.padding = padding\n",
    "        self.stride = stride\n",
    "        pass\n",
    "    def transform(self, A):\n",
    "        A = np.pad(A, self.padding)\n",
    "        output_shape = ((A.shape[0] - self.window_size) // self.stride + 1,\n",
    "                (A.shape[1] - self.window_size) // self.stride + 1)\n",
    "        shape_w = (output_shape[0], output_shape[1], self.window_size, self.window_size)\n",
    "        strides_w = (self.stride*A.strides[0], self.stride*A.strides[1], A.strides[0], A.strides[1])  \n",
    "        A_w = np.lib.stride_tricks.as_strided(A, shape_w, strides_w)\n",
    "        return A_w.mean(axis=(2,3))"
   ]
  },
  {
   "cell_type": "code",
   "execution_count": 89,
   "metadata": {},
   "outputs": [
    {
     "data": {
      "text/plain": [
       "array([[0.1, 0.3, 0.5, 0.7, 0.9],\n",
       "       [0.3, 0.5, 0.7, 0.9, 1.1],\n",
       "       [0.5, 0.7, 0.9, 1.1, 1.3],\n",
       "       [0.7, 0.9, 1.1, 1.3, 1.5],\n",
       "       [0.9, 1.1, 1.3, 1.5, 1.7]])"
      ]
     },
     "execution_count": 89,
     "metadata": {},
     "output_type": "execute_result"
    }
   ],
   "source": [
    "avp = AveragePooling(window_size=2, stride=2)\n",
    "avp.transform(A)"
   ]
  },
  {
   "cell_type": "code",
   "execution_count": null,
   "metadata": {},
   "outputs": [],
   "source": []
  }
 ],
 "metadata": {
  "interpreter": {
   "hash": "0f61157e1cb6ddf791496c2160792743f565948d5bb3ee77c39681b07fc9ff7a"
  },
  "kernelspec": {
   "display_name": "Python 3.10.1 64-bit",
   "language": "python",
   "name": "python3"
  },
  "language_info": {
   "codemirror_mode": {
    "name": "ipython",
    "version": 3
   },
   "file_extension": ".py",
   "mimetype": "text/x-python",
   "name": "python",
   "nbconvert_exporter": "python",
   "pygments_lexer": "ipython3",
   "version": "3.9.7"
  },
  "orig_nbformat": 4
 },
 "nbformat": 4,
 "nbformat_minor": 2
}
